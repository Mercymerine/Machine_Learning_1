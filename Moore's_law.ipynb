{
  "nbformat": 4,
  "nbformat_minor": 0,
  "metadata": {
    "colab": {
      "provenance": [],
      "mount_file_id": "12uDOfzr02h4NHOixt3Mt4EZn5B0Ra82P",
      "authorship_tag": "ABX9TyMIceeGXqHL9k+Onloh/7/z",
      "include_colab_link": true
    },
    "kernelspec": {
      "name": "python3",
      "display_name": "Python 3"
    },
    "language_info": {
      "name": "python"
    }
  },
  "cells": [
    {
      "cell_type": "markdown",
      "metadata": {
        "id": "view-in-github",
        "colab_type": "text"
      },
      "source": [
        "<a href=\"https://colab.research.google.com/github/Mercymerine/Machine_Learning_1/blob/main/Moore's_law.ipynb\" target=\"_parent\"><img src=\"https://colab.research.google.com/assets/colab-badge.svg\" alt=\"Open In Colab\"/></a>"
      ]
    },
    {
      "cell_type": "code",
      "execution_count": 49,
      "metadata": {
        "id": "ejHEIU7zf7RB"
      },
      "outputs": [],
      "source": [
        "import pandas as pd\n",
        "import numpy as np\n",
        "import seaborn as sns\n",
        "import matplotlib.pyplot as plt"
      ]
    },
    {
      "cell_type": "code",
      "source": [
        "df = pd.read_csv('/content/drive/MyDrive/Datasets/chip_dataset.csv')\n",
        "df.head()"
      ],
      "metadata": {
        "colab": {
          "base_uri": "https://localhost:8080/",
          "height": 310
        },
        "id": "bIIFHZ9zgvfB",
        "outputId": "b359923a-1fb2-4898-baf4-408a62b5e6c5"
      },
      "execution_count": 48,
      "outputs": [
        {
          "output_type": "execute_result",
          "data": {
            "text/plain": [
              "           Product Type Release Date Process Size (nm) TDP (W)  \\\n",
              "0  AMD Athlon 1000  CPU       6/5/00               180      54   \n",
              "1  AMD Athlon 1000  CPU     10/31/00               180      54   \n",
              "2  AMD Athlon 1100  CPU      8/14/00               180      60   \n",
              "3  AMD Athlon 1133  CPU     10/31/00               180      63   \n",
              "4  AMD Athlon 1200  CPU     10/31/00               180      66   \n",
              "\n",
              "  Die Size (mm^2) Transistors (million)  Freq (GHz) Foundry Vendor  \\\n",
              "0             120                    37      1000.0     NaN    AMD   \n",
              "1             120                    37      1000.0     NaN    AMD   \n",
              "2             120                    37      1100.0     NaN    AMD   \n",
              "3             120                    37      1133.0     NaN    AMD   \n",
              "4             120                    37      1200.0     NaN    AMD   \n",
              "\n",
              "   FP16 GFLOPS  FP32 GFLOPS  FP64 GFLOPS  \n",
              "0          NaN          NaN          NaN  \n",
              "1          NaN          NaN          NaN  \n",
              "2          NaN          NaN          NaN  \n",
              "3          NaN          NaN          NaN  \n",
              "4          NaN          NaN          NaN  "
            ],
            "text/html": [
              "\n",
              "  <div id=\"df-9bdd98eb-6e21-44dc-8d26-315a0225da4c\" class=\"colab-df-container\">\n",
              "    <div>\n",
              "<style scoped>\n",
              "    .dataframe tbody tr th:only-of-type {\n",
              "        vertical-align: middle;\n",
              "    }\n",
              "\n",
              "    .dataframe tbody tr th {\n",
              "        vertical-align: top;\n",
              "    }\n",
              "\n",
              "    .dataframe thead th {\n",
              "        text-align: right;\n",
              "    }\n",
              "</style>\n",
              "<table border=\"1\" class=\"dataframe\">\n",
              "  <thead>\n",
              "    <tr style=\"text-align: right;\">\n",
              "      <th></th>\n",
              "      <th>Product</th>\n",
              "      <th>Type</th>\n",
              "      <th>Release Date</th>\n",
              "      <th>Process Size (nm)</th>\n",
              "      <th>TDP (W)</th>\n",
              "      <th>Die Size (mm^2)</th>\n",
              "      <th>Transistors (million)</th>\n",
              "      <th>Freq (GHz)</th>\n",
              "      <th>Foundry</th>\n",
              "      <th>Vendor</th>\n",
              "      <th>FP16 GFLOPS</th>\n",
              "      <th>FP32 GFLOPS</th>\n",
              "      <th>FP64 GFLOPS</th>\n",
              "    </tr>\n",
              "  </thead>\n",
              "  <tbody>\n",
              "    <tr>\n",
              "      <th>0</th>\n",
              "      <td>AMD Athlon 1000</td>\n",
              "      <td>CPU</td>\n",
              "      <td>6/5/00</td>\n",
              "      <td>180</td>\n",
              "      <td>54</td>\n",
              "      <td>120</td>\n",
              "      <td>37</td>\n",
              "      <td>1000.0</td>\n",
              "      <td>NaN</td>\n",
              "      <td>AMD</td>\n",
              "      <td>NaN</td>\n",
              "      <td>NaN</td>\n",
              "      <td>NaN</td>\n",
              "    </tr>\n",
              "    <tr>\n",
              "      <th>1</th>\n",
              "      <td>AMD Athlon 1000</td>\n",
              "      <td>CPU</td>\n",
              "      <td>10/31/00</td>\n",
              "      <td>180</td>\n",
              "      <td>54</td>\n",
              "      <td>120</td>\n",
              "      <td>37</td>\n",
              "      <td>1000.0</td>\n",
              "      <td>NaN</td>\n",
              "      <td>AMD</td>\n",
              "      <td>NaN</td>\n",
              "      <td>NaN</td>\n",
              "      <td>NaN</td>\n",
              "    </tr>\n",
              "    <tr>\n",
              "      <th>2</th>\n",
              "      <td>AMD Athlon 1100</td>\n",
              "      <td>CPU</td>\n",
              "      <td>8/14/00</td>\n",
              "      <td>180</td>\n",
              "      <td>60</td>\n",
              "      <td>120</td>\n",
              "      <td>37</td>\n",
              "      <td>1100.0</td>\n",
              "      <td>NaN</td>\n",
              "      <td>AMD</td>\n",
              "      <td>NaN</td>\n",
              "      <td>NaN</td>\n",
              "      <td>NaN</td>\n",
              "    </tr>\n",
              "    <tr>\n",
              "      <th>3</th>\n",
              "      <td>AMD Athlon 1133</td>\n",
              "      <td>CPU</td>\n",
              "      <td>10/31/00</td>\n",
              "      <td>180</td>\n",
              "      <td>63</td>\n",
              "      <td>120</td>\n",
              "      <td>37</td>\n",
              "      <td>1133.0</td>\n",
              "      <td>NaN</td>\n",
              "      <td>AMD</td>\n",
              "      <td>NaN</td>\n",
              "      <td>NaN</td>\n",
              "      <td>NaN</td>\n",
              "    </tr>\n",
              "    <tr>\n",
              "      <th>4</th>\n",
              "      <td>AMD Athlon 1200</td>\n",
              "      <td>CPU</td>\n",
              "      <td>10/31/00</td>\n",
              "      <td>180</td>\n",
              "      <td>66</td>\n",
              "      <td>120</td>\n",
              "      <td>37</td>\n",
              "      <td>1200.0</td>\n",
              "      <td>NaN</td>\n",
              "      <td>AMD</td>\n",
              "      <td>NaN</td>\n",
              "      <td>NaN</td>\n",
              "      <td>NaN</td>\n",
              "    </tr>\n",
              "  </tbody>\n",
              "</table>\n",
              "</div>\n",
              "    <div class=\"colab-df-buttons\">\n",
              "\n",
              "  <div class=\"colab-df-container\">\n",
              "    <button class=\"colab-df-convert\" onclick=\"convertToInteractive('df-9bdd98eb-6e21-44dc-8d26-315a0225da4c')\"\n",
              "            title=\"Convert this dataframe to an interactive table.\"\n",
              "            style=\"display:none;\">\n",
              "\n",
              "  <svg xmlns=\"http://www.w3.org/2000/svg\" height=\"24px\" viewBox=\"0 -960 960 960\">\n",
              "    <path d=\"M120-120v-720h720v720H120Zm60-500h600v-160H180v160Zm220 220h160v-160H400v160Zm0 220h160v-160H400v160ZM180-400h160v-160H180v160Zm440 0h160v-160H620v160ZM180-180h160v-160H180v160Zm440 0h160v-160H620v160Z\"/>\n",
              "  </svg>\n",
              "    </button>\n",
              "\n",
              "  <style>\n",
              "    .colab-df-container {\n",
              "      display:flex;\n",
              "      gap: 12px;\n",
              "    }\n",
              "\n",
              "    .colab-df-convert {\n",
              "      background-color: #E8F0FE;\n",
              "      border: none;\n",
              "      border-radius: 50%;\n",
              "      cursor: pointer;\n",
              "      display: none;\n",
              "      fill: #1967D2;\n",
              "      height: 32px;\n",
              "      padding: 0 0 0 0;\n",
              "      width: 32px;\n",
              "    }\n",
              "\n",
              "    .colab-df-convert:hover {\n",
              "      background-color: #E2EBFA;\n",
              "      box-shadow: 0px 1px 2px rgba(60, 64, 67, 0.3), 0px 1px 3px 1px rgba(60, 64, 67, 0.15);\n",
              "      fill: #174EA6;\n",
              "    }\n",
              "\n",
              "    .colab-df-buttons div {\n",
              "      margin-bottom: 4px;\n",
              "    }\n",
              "\n",
              "    [theme=dark] .colab-df-convert {\n",
              "      background-color: #3B4455;\n",
              "      fill: #D2E3FC;\n",
              "    }\n",
              "\n",
              "    [theme=dark] .colab-df-convert:hover {\n",
              "      background-color: #434B5C;\n",
              "      box-shadow: 0px 1px 3px 1px rgba(0, 0, 0, 0.15);\n",
              "      filter: drop-shadow(0px 1px 2px rgba(0, 0, 0, 0.3));\n",
              "      fill: #FFFFFF;\n",
              "    }\n",
              "  </style>\n",
              "\n",
              "    <script>\n",
              "      const buttonEl =\n",
              "        document.querySelector('#df-9bdd98eb-6e21-44dc-8d26-315a0225da4c button.colab-df-convert');\n",
              "      buttonEl.style.display =\n",
              "        google.colab.kernel.accessAllowed ? 'block' : 'none';\n",
              "\n",
              "      async function convertToInteractive(key) {\n",
              "        const element = document.querySelector('#df-9bdd98eb-6e21-44dc-8d26-315a0225da4c');\n",
              "        const dataTable =\n",
              "          await google.colab.kernel.invokeFunction('convertToInteractive',\n",
              "                                                    [key], {});\n",
              "        if (!dataTable) return;\n",
              "\n",
              "        const docLinkHtml = 'Like what you see? Visit the ' +\n",
              "          '<a target=\"_blank\" href=https://colab.research.google.com/notebooks/data_table.ipynb>data table notebook</a>'\n",
              "          + ' to learn more about interactive tables.';\n",
              "        element.innerHTML = '';\n",
              "        dataTable['output_type'] = 'display_data';\n",
              "        await google.colab.output.renderOutput(dataTable, element);\n",
              "        const docLink = document.createElement('div');\n",
              "        docLink.innerHTML = docLinkHtml;\n",
              "        element.appendChild(docLink);\n",
              "      }\n",
              "    </script>\n",
              "  </div>\n",
              "\n",
              "\n",
              "<div id=\"df-904e0f5e-aa0e-41f8-a5e9-b374dce972df\">\n",
              "  <button class=\"colab-df-quickchart\" onclick=\"quickchart('df-904e0f5e-aa0e-41f8-a5e9-b374dce972df')\"\n",
              "            title=\"Suggest charts\"\n",
              "            style=\"display:none;\">\n",
              "\n",
              "<svg xmlns=\"http://www.w3.org/2000/svg\" height=\"24px\"viewBox=\"0 0 24 24\"\n",
              "     width=\"24px\">\n",
              "    <g>\n",
              "        <path d=\"M19 3H5c-1.1 0-2 .9-2 2v14c0 1.1.9 2 2 2h14c1.1 0 2-.9 2-2V5c0-1.1-.9-2-2-2zM9 17H7v-7h2v7zm4 0h-2V7h2v10zm4 0h-2v-4h2v4z\"/>\n",
              "    </g>\n",
              "</svg>\n",
              "  </button>\n",
              "\n",
              "<style>\n",
              "  .colab-df-quickchart {\n",
              "      --bg-color: #E8F0FE;\n",
              "      --fill-color: #1967D2;\n",
              "      --hover-bg-color: #E2EBFA;\n",
              "      --hover-fill-color: #174EA6;\n",
              "      --disabled-fill-color: #AAA;\n",
              "      --disabled-bg-color: #DDD;\n",
              "  }\n",
              "\n",
              "  [theme=dark] .colab-df-quickchart {\n",
              "      --bg-color: #3B4455;\n",
              "      --fill-color: #D2E3FC;\n",
              "      --hover-bg-color: #434B5C;\n",
              "      --hover-fill-color: #FFFFFF;\n",
              "      --disabled-bg-color: #3B4455;\n",
              "      --disabled-fill-color: #666;\n",
              "  }\n",
              "\n",
              "  .colab-df-quickchart {\n",
              "    background-color: var(--bg-color);\n",
              "    border: none;\n",
              "    border-radius: 50%;\n",
              "    cursor: pointer;\n",
              "    display: none;\n",
              "    fill: var(--fill-color);\n",
              "    height: 32px;\n",
              "    padding: 0;\n",
              "    width: 32px;\n",
              "  }\n",
              "\n",
              "  .colab-df-quickchart:hover {\n",
              "    background-color: var(--hover-bg-color);\n",
              "    box-shadow: 0 1px 2px rgba(60, 64, 67, 0.3), 0 1px 3px 1px rgba(60, 64, 67, 0.15);\n",
              "    fill: var(--button-hover-fill-color);\n",
              "  }\n",
              "\n",
              "  .colab-df-quickchart-complete:disabled,\n",
              "  .colab-df-quickchart-complete:disabled:hover {\n",
              "    background-color: var(--disabled-bg-color);\n",
              "    fill: var(--disabled-fill-color);\n",
              "    box-shadow: none;\n",
              "  }\n",
              "\n",
              "  .colab-df-spinner {\n",
              "    border: 2px solid var(--fill-color);\n",
              "    border-color: transparent;\n",
              "    border-bottom-color: var(--fill-color);\n",
              "    animation:\n",
              "      spin 1s steps(1) infinite;\n",
              "  }\n",
              "\n",
              "  @keyframes spin {\n",
              "    0% {\n",
              "      border-color: transparent;\n",
              "      border-bottom-color: var(--fill-color);\n",
              "      border-left-color: var(--fill-color);\n",
              "    }\n",
              "    20% {\n",
              "      border-color: transparent;\n",
              "      border-left-color: var(--fill-color);\n",
              "      border-top-color: var(--fill-color);\n",
              "    }\n",
              "    30% {\n",
              "      border-color: transparent;\n",
              "      border-left-color: var(--fill-color);\n",
              "      border-top-color: var(--fill-color);\n",
              "      border-right-color: var(--fill-color);\n",
              "    }\n",
              "    40% {\n",
              "      border-color: transparent;\n",
              "      border-right-color: var(--fill-color);\n",
              "      border-top-color: var(--fill-color);\n",
              "    }\n",
              "    60% {\n",
              "      border-color: transparent;\n",
              "      border-right-color: var(--fill-color);\n",
              "    }\n",
              "    80% {\n",
              "      border-color: transparent;\n",
              "      border-right-color: var(--fill-color);\n",
              "      border-bottom-color: var(--fill-color);\n",
              "    }\n",
              "    90% {\n",
              "      border-color: transparent;\n",
              "      border-bottom-color: var(--fill-color);\n",
              "    }\n",
              "  }\n",
              "</style>\n",
              "\n",
              "  <script>\n",
              "    async function quickchart(key) {\n",
              "      const quickchartButtonEl =\n",
              "        document.querySelector('#' + key + ' button');\n",
              "      quickchartButtonEl.disabled = true;  // To prevent multiple clicks.\n",
              "      quickchartButtonEl.classList.add('colab-df-spinner');\n",
              "      try {\n",
              "        const charts = await google.colab.kernel.invokeFunction(\n",
              "            'suggestCharts', [key], {});\n",
              "      } catch (error) {\n",
              "        console.error('Error during call to suggestCharts:', error);\n",
              "      }\n",
              "      quickchartButtonEl.classList.remove('colab-df-spinner');\n",
              "      quickchartButtonEl.classList.add('colab-df-quickchart-complete');\n",
              "    }\n",
              "    (() => {\n",
              "      let quickchartButtonEl =\n",
              "        document.querySelector('#df-904e0f5e-aa0e-41f8-a5e9-b374dce972df button');\n",
              "      quickchartButtonEl.style.display =\n",
              "        google.colab.kernel.accessAllowed ? 'block' : 'none';\n",
              "    })();\n",
              "  </script>\n",
              "</div>\n",
              "\n",
              "    </div>\n",
              "  </div>\n"
            ],
            "application/vnd.google.colaboratory.intrinsic+json": {
              "type": "dataframe",
              "variable_name": "df",
              "summary": "{\n  \"name\": \"df\",\n  \"rows\": 4945,\n  \"fields\": [\n    {\n      \"column\": \"Product\",\n      \"properties\": {\n        \"dtype\": \"string\",\n        \"num_unique_values\": 4567,\n        \"samples\": [\n          \"Intel Xeon E5-2658 v3\",\n          \"Intel Core 2 Duo E4400\",\n          \"AMD FirePro W7170M\"\n        ],\n        \"semantic_type\": \"\",\n        \"description\": \"\"\n      }\n    },\n    {\n      \"column\": \"Type\",\n      \"properties\": {\n        \"dtype\": \"category\",\n        \"num_unique_values\": 2,\n        \"samples\": [\n          \"GPU\",\n          \"CPU\"\n        ],\n        \"semantic_type\": \"\",\n        \"description\": \"\"\n      }\n    },\n    {\n      \"column\": \"Release Date\",\n      \"properties\": {\n        \"dtype\": \"object\",\n        \"num_unique_values\": 1280,\n        \"samples\": [\n          \"1/4/22\",\n          \"10/29/07\"\n        ],\n        \"semantic_type\": \"\",\n        \"description\": \"\"\n      }\n    },\n    {\n      \"column\": \"Process Size (nm)\",\n      \"properties\": {\n        \"dtype\": \"category\",\n        \"num_unique_values\": 29,\n        \"samples\": [\n          \"10+\",\n          \"4\"\n        ],\n        \"semantic_type\": \"\",\n        \"description\": \"\"\n      }\n    },\n    {\n      \"column\": \"TDP (W)\",\n      \"properties\": {\n        \"dtype\": \"category\",\n        \"num_unique_values\": 211,\n        \"samples\": [\n          \"110\",\n          \"133\"\n        ],\n        \"semantic_type\": \"\",\n        \"description\": \"\"\n      }\n    },\n    {\n      \"column\": \"Die Size (mm^2)\",\n      \"properties\": {\n        \"dtype\": \"category\",\n        \"num_unique_values\": 247,\n        \"samples\": [\n          \"111\",\n          \"84\"\n        ],\n        \"semantic_type\": \"\",\n        \"description\": \"\"\n      }\n    },\n    {\n      \"column\": \"Transistors (million)\",\n      \"properties\": {\n        \"dtype\": \"category\",\n        \"num_unique_values\": 248,\n        \"samples\": [\n          \"176\",\n          \"105\"\n        ],\n        \"semantic_type\": \"\",\n        \"description\": \"\"\n      }\n    },\n    {\n      \"column\": \"Freq (GHz)\",\n      \"properties\": {\n        \"dtype\": \"number\",\n        \"std\": 1084.6414522624134,\n        \"min\": 100.0,\n        \"max\": 4700.0,\n        \"num_unique_values\": 540,\n        \"samples\": [\n          606.0,\n          2166.0\n        ],\n        \"semantic_type\": \"\",\n        \"description\": \"\"\n      }\n    },\n    {\n      \"column\": \"Foundry\",\n      \"properties\": {\n        \"dtype\": \"category\",\n        \"num_unique_values\": 10,\n        \"samples\": [\n          \"Samsung\",\n          \"TSMC\"\n        ],\n        \"semantic_type\": \"\",\n        \"description\": \"\"\n      }\n    },\n    {\n      \"column\": \"Vendor\",\n      \"properties\": {\n        \"dtype\": \"category\",\n        \"num_unique_values\": 9,\n        \"samples\": [\n          \"Sony\",\n          \"Intel\"\n        ],\n        \"semantic_type\": \"\",\n        \"description\": \"\"\n      }\n    },\n    {\n      \"column\": \"FP16 GFLOPS\",\n      \"properties\": {\n        \"dtype\": \"number\",\n        \"std\": 44865.34121844766,\n        \"min\": 10.02,\n        \"max\": 653700.0,\n        \"num_unique_values\": 510,\n        \"samples\": [\n          67580.0,\n          18840.0\n        ],\n        \"semantic_type\": \"\",\n        \"description\": \"\"\n      }\n    },\n    {\n      \"column\": \"FP32 GFLOPS\",\n      \"properties\": {\n        \"dtype\": \"number\",\n        \"std\": 11492.095538373587,\n        \"min\": 12.8,\n        \"max\": 93240.0,\n        \"num_unique_values\": 869,\n        \"samples\": [\n          8192.0,\n          99.2\n        ],\n        \"semantic_type\": \"\",\n        \"description\": \"\"\n      }\n    },\n    {\n      \"column\": \"FP64 GFLOPS\",\n      \"properties\": {\n        \"dtype\": \"number\",\n        \"std\": 5232.537403614791,\n        \"min\": 3.6,\n        \"max\": 81720.0,\n        \"num_unique_values\": 728,\n        \"samples\": [\n          38.88,\n          342.9\n        ],\n        \"semantic_type\": \"\",\n        \"description\": \"\"\n      }\n    }\n  ]\n}"
            }
          },
          "metadata": {},
          "execution_count": 48
        }
      ]
    },
    {
      "cell_type": "code",
      "source": [
        "df.info()"
      ],
      "metadata": {
        "colab": {
          "base_uri": "https://localhost:8080/"
        },
        "id": "wRtGAZpeg4tC",
        "outputId": "5eba6929-8409-4f29-c2fa-82ac9ab20aee"
      },
      "execution_count": 50,
      "outputs": [
        {
          "output_type": "stream",
          "name": "stdout",
          "text": [
            "<class 'pandas.core.frame.DataFrame'>\n",
            "RangeIndex: 4945 entries, 0 to 4944\n",
            "Data columns (total 13 columns):\n",
            " #   Column                 Non-Null Count  Dtype  \n",
            "---  ------                 --------------  -----  \n",
            " 0   Product                4945 non-null   object \n",
            " 1   Type                   4945 non-null   object \n",
            " 2   Release Date           4746 non-null   object \n",
            " 3   Process Size (nm)      4945 non-null   object \n",
            " 4   TDP (W)                4508 non-null   object \n",
            " 5   Die Size (mm^2)        4593 non-null   object \n",
            " 6   Transistors (million)  4390 non-null   object \n",
            " 7   Freq (GHz)             4508 non-null   float64\n",
            " 8   Foundry                4330 non-null   object \n",
            " 9   Vendor                 4945 non-null   object \n",
            " 10  FP16 GFLOPS            800 non-null    float64\n",
            " 11  FP32 GFLOPS            1685 non-null   float64\n",
            " 12  FP64 GFLOPS            1278 non-null   float64\n",
            "dtypes: float64(4), object(9)\n",
            "memory usage: 502.4+ KB\n"
          ]
        }
      ]
    },
    {
      "cell_type": "code",
      "source": [],
      "metadata": {
        "id": "KwVV5bV3P06f"
      },
      "execution_count": 47,
      "outputs": []
    },
    {
      "cell_type": "code",
      "source": [
        "missing_percentage = (df.isnull().sum()/len(df)) * 100\n",
        "print(missing_percentage)"
      ],
      "metadata": {
        "colab": {
          "base_uri": "https://localhost:8080/"
        },
        "id": "g6H9vlAyjBZr",
        "outputId": "2b636451-cd2c-4e7f-e991-3f1ef5f59a8e"
      },
      "execution_count": 51,
      "outputs": [
        {
          "output_type": "stream",
          "name": "stdout",
          "text": [
            "Product                   0.000000\n",
            "Type                      0.000000\n",
            "Release Date              4.024267\n",
            "Process Size (nm)         0.000000\n",
            "TDP (W)                   8.837209\n",
            "Die Size (mm^2)           7.118301\n",
            "Transistors (million)    11.223458\n",
            "Freq (GHz)                8.837209\n",
            "Foundry                  12.436805\n",
            "Vendor                    0.000000\n",
            "FP16 GFLOPS              83.822042\n",
            "FP32 GFLOPS              65.925177\n",
            "FP64 GFLOPS              74.155713\n",
            "dtype: float64\n"
          ]
        }
      ]
    },
    {
      "cell_type": "code",
      "source": [
        "df.columns"
      ],
      "metadata": {
        "colab": {
          "base_uri": "https://localhost:8080/"
        },
        "id": "ghv9AI6VqLck",
        "outputId": "0bfe8404-f376-4401-d643-64ce4f21402e"
      },
      "execution_count": 53,
      "outputs": [
        {
          "output_type": "execute_result",
          "data": {
            "text/plain": [
              "Index(['Product', 'Type', 'Release Date', 'Process Size (nm)', 'TDP (W)',\n",
              "       'Die Size (mm^2)', 'Transistors (million)', 'Freq (GHz)', 'Foundry',\n",
              "       'Vendor', 'FP16 GFLOPS', 'FP32 GFLOPS', 'FP64 GFLOPS'],\n",
              "      dtype='object')"
            ]
          },
          "metadata": {},
          "execution_count": 53
        }
      ]
    },
    {
      "cell_type": "code",
      "source": [
        "#Since the percentage of the following columns is greater than 50% am dropping them:'FP16 GFLOPS', 'FP32 GFLOPS', 'FP64 GFLOPS'"
      ],
      "metadata": {
        "id": "kyXaSCk1qUbU"
      },
      "execution_count": 54,
      "outputs": []
    },
    {
      "cell_type": "code",
      "source": [
        "columns_to_drop = ['FP16 GFLOPS', 'FP32 GFLOPS', 'FP64 GFLOPS']\n",
        "df.drop(columns=columns_to_drop, inplace= True)"
      ],
      "metadata": {
        "id": "37qq5fDyqeba"
      },
      "execution_count": 7,
      "outputs": []
    },
    {
      "cell_type": "code",
      "source": [
        "# Changing the dtype od the release dataet to datetime datatype\n",
        "df['Release Date'] = pd.to_datetime(df['Release Date'])"
      ],
      "metadata": {
        "colab": {
          "base_uri": "https://localhost:8080/"
        },
        "id": "lvBuE8wUqpm3",
        "outputId": "fe35375c-b4a9-4f56-fac3-38db342818a6"
      },
      "execution_count": 8,
      "outputs": [
        {
          "output_type": "stream",
          "name": "stderr",
          "text": [
            "<ipython-input-8-8b87dcc1082f>:2: UserWarning: Could not infer format, so each element will be parsed individually, falling back to `dateutil`. To ensure parsing is consistent and as-expected, please specify a format.\n",
            "  df['Release Date'] = pd.to_datetime(df['Release Date'])\n"
          ]
        }
      ]
    },
    {
      "cell_type": "code",
      "source": [
        "# Performing a forward fill since I have noticed that the dates are following a chronological order and it could be missing completely at random\n",
        "df['Release Date'].fillna(method='ffill', inplace= True)\n"
      ],
      "metadata": {
        "id": "ifQAvaCB2fDp"
      },
      "execution_count": 9,
      "outputs": []
    },
    {
      "cell_type": "code",
      "source": [
        "df['Process Size (nm)'].unique()"
      ],
      "metadata": {
        "colab": {
          "base_uri": "https://localhost:8080/"
        },
        "id": "IUusQeQx-Oc1",
        "outputId": "e299a8eb-a60f-466e-bd30-39a443ceba44"
      },
      "execution_count": 10,
      "outputs": [
        {
          "output_type": "execute_result",
          "data": {
            "text/plain": [
              "array(['180', '90', '130', '65', '45', '32', '40', '22', '28', '14', '12',\n",
              "       '10', '7', '16', '6', '5', '4', '250', '150', '110', '0', '80',\n",
              "       '55', '14+', '14++', '14+++', '20', '10+', '8'], dtype=object)"
            ]
          },
          "metadata": {},
          "execution_count": 10
        }
      ]
    },
    {
      "cell_type": "code",
      "source": [
        "import re\n",
        "def remove_additional_signs(value):\n",
        "  return re.sub(r'\\D', '', value)\n",
        "\n",
        "df['Process Size (nm)'] = df['Process Size (nm)'].apply(remove_additional_signs)\n",
        "df['Process Size (nm)'] = pd.to_numeric(df['Process Size (nm)'])\n",
        "df['Process Size (nm)']=df['Process Size (nm)'].astype('Int64')"
      ],
      "metadata": {
        "id": "M3a2aZkGG4AP"
      },
      "execution_count": 55,
      "outputs": []
    },
    {
      "cell_type": "code",
      "source": [
        "df['TDP (W)'].unique()"
      ],
      "metadata": {
        "colab": {
          "base_uri": "https://localhost:8080/"
        },
        "id": "fK1iNeyi_y8S",
        "outputId": "f908c6a8-22d9-490f-8ebc-efb0f06f60b5"
      },
      "execution_count": 12,
      "outputs": [
        {
          "output_type": "execute_result",
          "data": {
            "text/plain": [
              "array(['54', '60', '63', '66', '38', '40', '43', '45', '47', '50', '52',\n",
              "       '30', '55', '58', '29', '31', '25', '68', '70', '72', '51', '59',\n",
              "       '89', '67', '49', '64', '53', '62', '61', '69', '110', '84', '27',\n",
              "       '36', '8', '9', '65', '74', '73', '92', '21', '26', '32', '35',\n",
              "       '10', '79', '77', '82', '85', '76', '24', '97', '104', '88', '115',\n",
              "       '103', '135', '83', '95', '22', '130', '125', '119', '120', '75',\n",
              "       '15', '80', '150', '3', '19', '44', '105', '5', '4', '1', '2',\n",
              "       '17', '7', '140', '13', '6', '28', '300', '18', '100', '225', '37',\n",
              "       '12', '270', '245', '90', '160', '165', '145', '215', '230', '260',\n",
              "       '170', '180', '112', '91', '200', '250', '320', '205', '255', '71',\n",
              "       '155', '280', '127', '350', '400', '240', '380', '185', '235',\n",
              "       '195', '190', '265', '220', '210', '290', '360', '175', '340',\n",
              "       '330', '385', '46', nan, 'unknown', '23', '11', '57', '33', '48',\n",
              "       '81', '101', '111', '41', '42', '113', '203', '86', '108', '109',\n",
              "       '96', '143', '16', '20', '159', '106', '14', '171', '520', '800',\n",
              "       '56', '151', '118', '286', '182', '236', '204', '189', '640',\n",
              "       '600', '188', '294', '141', '219', '315', '289', '34', '208',\n",
              "       '228', '133', '244', '142', '39', '254', '186', '138', '365',\n",
              "       '116', '231', '238', '247', '900', '375', '274', '500', '122',\n",
              "       '275', '239', '580', '148', '295', '345', '475', '132', '184',\n",
              "       '107', '176', '335', '355', '450', '285', '750', '263', '405',\n",
              "       '2400', '425', '700'], dtype=object)"
            ]
          },
          "metadata": {},
          "execution_count": 12
        }
      ]
    },
    {
      "cell_type": "code",
      "source": [
        "#converting these columns to integers:'Process Size (nm)', 'TDP (W)','Die Size (mm^2)', 'Transistors (million)"
      ],
      "metadata": {
        "id": "QmJ555JDMN1u"
      },
      "execution_count": null,
      "outputs": []
    },
    {
      "cell_type": "code",
      "source": [
        "import pandas as pd\n",
        "import numpy as np\n",
        "\n",
        "\n",
        "\n",
        "# Identify missing or \"unknown\" values in both columns\n",
        "missing_unknown_in_column1 = df['TDP (W)'].isna() | (df['TDP (W)'] == 'unknown')\n",
        "missing_unknown_in_column2 = df['Freq (GHz)'].isna() | (df['Freq (GHz)'] == 'unknown')\n",
        "\n",
        "# Check for positions where one column has missing/unknown values but the other does not\n",
        "missing_unknown_in_either_but_not_both = (missing_unknown_in_column1 != missing_unknown_in_column2)\n",
        "\n",
        "# Check if there are any such positions\n",
        "any_missing_unknown_in_either_but_not_both = missing_unknown_in_either_but_not_both.any()\n",
        "\n",
        "print(\"\\nMissing/unknown values in 'TDP (W)':\")\n",
        "print(missing_unknown_in_column1)\n",
        "\n",
        "print(\"\\nMissing/unknown values in 'Freq (GHz)':\")\n",
        "print(missing_unknown_in_column2)\n",
        "\n",
        "print(\"\\nPositions where one column has missing/unknown values but the other does not:\")\n",
        "print(missing_unknown_in_either_but_not_both)\n",
        "\n",
        "print(f\"\\nAre there any positions where one column has missing/unknown values but the other does not? {any_missing_unknown_in_either_but_not_both}\")\n"
      ],
      "metadata": {
        "colab": {
          "base_uri": "https://localhost:8080/"
        },
        "id": "KJgdVKubXOyx",
        "outputId": "62b75f5c-2f0d-4587-a666-521aa5429eb1"
      },
      "execution_count": 60,
      "outputs": [
        {
          "output_type": "stream",
          "name": "stdout",
          "text": [
            "\n",
            "Missing/unknown values in 'TDP (W)':\n",
            "0    False\n",
            "1    False\n",
            "2     True\n",
            "3    False\n",
            "4    False\n",
            "5     True\n",
            "Name: TDP (W), dtype: bool\n",
            "\n",
            "Missing/unknown values in 'Freq (GHz)':\n",
            "0    False\n",
            "1     True\n",
            "2    False\n",
            "3    False\n",
            "4     True\n",
            "5    False\n",
            "Name: Freq (GHz), dtype: bool\n",
            "\n",
            "Positions where one column has missing/unknown values but the other does not:\n",
            "0    False\n",
            "1     True\n",
            "2     True\n",
            "3    False\n",
            "4     True\n",
            "5     True\n",
            "dtype: bool\n",
            "\n",
            "Are there any positions where one column has missing/unknown values but the other does not? True\n"
          ]
        }
      ]
    },
    {
      "cell_type": "code",
      "source": [
        "missing_in_column1 = df['TDP (W)'].isna()\n",
        "missing_in_column2 = df['Freq (GHz)'].isna()\n",
        "\n",
        "missing_same_positions = (missing_in_column1 == missing_in_column2)\n",
        "\n",
        "all_missing_at_same_positions = missing_same_positions.all()\n",
        "\n",
        "print(\"\\nMissing values in Column1:\")\n",
        "print(missing_in_column1)\n",
        "\n",
        "print(\"\\nMissing values in Column2:\")\n",
        "print(missing_in_column2)\n",
        "\n",
        "print(\"\\nComparison of missing values in both columns:\")\n",
        "print(missing_same_positions)\n",
        "\n",
        "print(f\"\\nAre all missing values at the same positions in both columns? {all_missing_at_same_positions}\")\n"
      ],
      "metadata": {
        "colab": {
          "base_uri": "https://localhost:8080/"
        },
        "id": "GfI97jpMWhz3",
        "outputId": "e4ff0398-9d9d-4e8f-f7b8-7e6672c7ed35"
      },
      "execution_count": 58,
      "outputs": [
        {
          "output_type": "stream",
          "name": "stdout",
          "text": [
            "\n",
            "Missing values in Column1:\n",
            "0       False\n",
            "1       False\n",
            "2       False\n",
            "3       False\n",
            "4       False\n",
            "        ...  \n",
            "4940    False\n",
            "4941    False\n",
            "4942    False\n",
            "4943    False\n",
            "4944    False\n",
            "Name: TDP (W), Length: 4945, dtype: bool\n",
            "\n",
            "Missing values in Column2:\n",
            "0       False\n",
            "1       False\n",
            "2       False\n",
            "3       False\n",
            "4       False\n",
            "        ...  \n",
            "4940    False\n",
            "4941    False\n",
            "4942    False\n",
            "4943    False\n",
            "4944    False\n",
            "Name: Freq (GHz), Length: 4945, dtype: bool\n",
            "\n",
            "Comparison of missing values in both columns:\n",
            "0       True\n",
            "1       True\n",
            "2       True\n",
            "3       True\n",
            "4       True\n",
            "        ... \n",
            "4940    True\n",
            "4941    True\n",
            "4942    True\n",
            "4943    True\n",
            "4944    True\n",
            "Length: 4945, dtype: bool\n",
            "\n",
            "Are all missing values at the same positions in both columns? False\n"
          ]
        }
      ]
    },
    {
      "cell_type": "code",
      "source": [
        "df['TDP (W)'] = pd.to_numeric(df['TDP (W)'], errors='coerce')\n"
      ],
      "metadata": {
        "id": "qjJxihPPKUt8"
      },
      "execution_count": 57,
      "outputs": []
    },
    {
      "cell_type": "code",
      "source": [
        "df['Die Size (mm^2)'] = pd.to_numeric(df['Die Size (mm^2)'], errors='coerce')\n"
      ],
      "metadata": {
        "id": "yADcrxI5MHw7"
      },
      "execution_count": 35,
      "outputs": []
    },
    {
      "cell_type": "code",
      "source": [
        "df['Transistors (million)'].unique()"
      ],
      "metadata": {
        "colab": {
          "base_uri": "https://localhost:8080/"
        },
        "id": "4IyK8gGkMRU_",
        "outputId": "b124589c-a972-4bf6-bff7-8178f9286ba1"
      },
      "execution_count": 20,
      "outputs": [
        {
          "output_type": "execute_result",
          "data": {
            "text/plain": [
              "array(['37', nan, '42', '44', '28', '140', '69', '105', '233', '154',\n",
              "       '63', '55', '125', '16', '106', '178', '77', '286', '114', '155',\n",
              "       '151', '169', '230', '376', '200', '227', '81', '167', '291',\n",
              "       '293', '582', '1328', '122', '450', '176', '820', '463', '47',\n",
              "       '228', '420', '410', '274', '456', '731', '94', '300', '758',\n",
              "       '234', '123', '774', '904', '2300', '382', '1170', '384', '1178',\n",
              "       '1200', '2400', '504', '624', '1160', '2270', '1303', '1480',\n",
              "       '1400', '5000', '960', '1300', '1860', '2800', '2411', '2600',\n",
              "       '5690', '3200', '1750', '5960', '3100', '3400', '7200', '8000',\n",
              "       '4800', '9600', '4950', '19200', '3800', '4940', '7600', '15200',\n",
              "       '9800', '4150', '8300', '30400', '4050', '10700', '10600', '33200',\n",
              "       '26280', '52560', '78840', '6570', '8850', '13140', '16600',\n",
              "       '8875', '17750', '35500', '90160', '135240', '71000', '20900',\n",
              "       '25000', '17840', '14', '30', 'unknown', '51', '10', '25', '20',\n",
              "       '15', '54', '60', '57', '110', '36', '80', '29', '117', '76', '45',\n",
              "       '82', '135', '90', '160', '107', '75', '120', '146', '222', '312',\n",
              "       '157', '232', '198', '302', '278', '177', '112', '681', '666', '8',\n",
              "       '390', '720', '180', '378', '181', '210', '289', '754', '314',\n",
              "       '956', '514', '242', '505', '627', '826', '959', '1040', '2154',\n",
              "       '260', '486', '727', '370', '292', '1700', '2640', '372', '585',\n",
              "       '1950', '3000', '716', '4313', '1500', '880', '392', '1270',\n",
              "       '2540', '3540', '7080', '950', '2080', '6200', '1020', '11', '690',\n",
              "       '2410', '930', '1550', '5200', '1870', '7100', '8900', '2940',\n",
              "       '5700', '3300', '4400', '15300', '11800', '2200', '12500', '7000',\n",
              "       '1800', '2000', '21100', '13230', '10800', '13600', '18600',\n",
              "       '9000', '6400', '10300', '4700', '6600', '25600', '26800', '54200',\n",
              "       '28300', '17400', '58200', '11060', '17200', '8700', '12000',\n",
              "       '13100', '5400', '57700', '21700', '22000', '45900', '35800',\n",
              "       '76300', '25390', '153000', '13300', '28100', '11500', '100000',\n",
              "       '18900', '22900', '80000'], dtype=object)"
            ]
          },
          "metadata": {},
          "execution_count": 20
        }
      ]
    },
    {
      "cell_type": "code",
      "source": [
        "df['Transistors (million)'] = pd.to_numeric(df['Transistors (million)'], errors='coerce')\n",
        "df['Transistors (million)']=df['Transistors (million)'].astype('Int64')"
      ],
      "metadata": {
        "id": "FiUYxPdX4RVX"
      },
      "execution_count": 28,
      "outputs": []
    },
    {
      "cell_type": "code",
      "source": [
        "df['Freq (GHz)'] = pd.to_numeric(df['Freq (GHz)'], errors='coerce')"
      ],
      "metadata": {
        "id": "hXMt6qqH_yOu"
      },
      "execution_count": 43,
      "outputs": []
    },
    {
      "cell_type": "code",
      "source": [
        "df.info()"
      ],
      "metadata": {
        "colab": {
          "base_uri": "https://localhost:8080/"
        },
        "id": "jlwgAeCtqr0E",
        "outputId": "c1a5e183-9fea-4de6-b963-3efe6e3ee4a1"
      },
      "execution_count": 56,
      "outputs": [
        {
          "output_type": "stream",
          "name": "stdout",
          "text": [
            "<class 'pandas.core.frame.DataFrame'>\n",
            "RangeIndex: 4945 entries, 0 to 4944\n",
            "Data columns (total 13 columns):\n",
            " #   Column                 Non-Null Count  Dtype  \n",
            "---  ------                 --------------  -----  \n",
            " 0   Product                4945 non-null   object \n",
            " 1   Type                   4945 non-null   object \n",
            " 2   Release Date           4746 non-null   object \n",
            " 3   Process Size (nm)      4945 non-null   Int64  \n",
            " 4   TDP (W)                4508 non-null   object \n",
            " 5   Die Size (mm^2)        4593 non-null   object \n",
            " 6   Transistors (million)  4390 non-null   object \n",
            " 7   Freq (GHz)             4508 non-null   float64\n",
            " 8   Foundry                4330 non-null   object \n",
            " 9   Vendor                 4945 non-null   object \n",
            " 10  FP16 GFLOPS            800 non-null    float64\n",
            " 11  FP32 GFLOPS            1685 non-null   float64\n",
            " 12  FP64 GFLOPS            1278 non-null   float64\n",
            "dtypes: Int64(1), float64(4), object(8)\n",
            "memory usage: 507.2+ KB\n"
          ]
        }
      ]
    },
    {
      "cell_type": "code",
      "source": [
        "missing_in_column1 = df['TDP (W)'].isna()\n",
        "missing_in_column2 = df['Freq (GHz)'].isna()\n",
        "\n",
        "missing_same_positions = (missing_in_column1 == missing_in_column2)\n",
        "\n",
        "all_missing_at_same_positions = missing_same_positions.all()\n",
        "\n",
        "print(\"\\nMissing values in Column1:\")\n",
        "print(missing_in_column1)\n",
        "\n",
        "print(\"\\nMissing values in Column2:\")\n",
        "print(missing_in_column2)\n",
        "\n",
        "print(\"\\nComparison of missing values in both columns:\")\n",
        "print(missing_same_positions)\n",
        "\n",
        "print(f\"\\nAre all missing values at the same positions in both columns? {all_missing_at_same_positions}\")\n"
      ],
      "metadata": {
        "id": "PcflVVNkRTEG"
      },
      "execution_count": null,
      "outputs": []
    },
    {
      "cell_type": "code",
      "source": [
        "df.head()"
      ],
      "metadata": {
        "colab": {
          "base_uri": "https://localhost:8080/",
          "height": 206
        },
        "id": "IOORTnWOsUmo",
        "outputId": "2611083a-e979-40e9-a803-eeffb914bb17"
      },
      "execution_count": 24,
      "outputs": [
        {
          "output_type": "execute_result",
          "data": {
            "text/plain": [
              "           Product Type Release Date  Process Size (nm)  TDP (W)  \\\n",
              "0  AMD Athlon 1000  CPU   2000-06-05                180     54.0   \n",
              "1  AMD Athlon 1000  CPU   2000-10-31                180     54.0   \n",
              "2  AMD Athlon 1100  CPU   2000-08-14                180     60.0   \n",
              "3  AMD Athlon 1133  CPU   2000-10-31                180     63.0   \n",
              "4  AMD Athlon 1200  CPU   2000-10-31                180     66.0   \n",
              "\n",
              "   Die Size (mm^2)  Transistors (million)  Freq (GHz) Foundry Vendor  \n",
              "0            120.0                   37.0      1000.0     NaN    AMD  \n",
              "1            120.0                   37.0      1000.0     NaN    AMD  \n",
              "2            120.0                   37.0      1100.0     NaN    AMD  \n",
              "3            120.0                   37.0      1133.0     NaN    AMD  \n",
              "4            120.0                   37.0      1200.0     NaN    AMD  "
            ],
            "text/html": [
              "\n",
              "  <div id=\"df-131294eb-8a69-48f1-a41d-e0d852d34f54\" class=\"colab-df-container\">\n",
              "    <div>\n",
              "<style scoped>\n",
              "    .dataframe tbody tr th:only-of-type {\n",
              "        vertical-align: middle;\n",
              "    }\n",
              "\n",
              "    .dataframe tbody tr th {\n",
              "        vertical-align: top;\n",
              "    }\n",
              "\n",
              "    .dataframe thead th {\n",
              "        text-align: right;\n",
              "    }\n",
              "</style>\n",
              "<table border=\"1\" class=\"dataframe\">\n",
              "  <thead>\n",
              "    <tr style=\"text-align: right;\">\n",
              "      <th></th>\n",
              "      <th>Product</th>\n",
              "      <th>Type</th>\n",
              "      <th>Release Date</th>\n",
              "      <th>Process Size (nm)</th>\n",
              "      <th>TDP (W)</th>\n",
              "      <th>Die Size (mm^2)</th>\n",
              "      <th>Transistors (million)</th>\n",
              "      <th>Freq (GHz)</th>\n",
              "      <th>Foundry</th>\n",
              "      <th>Vendor</th>\n",
              "    </tr>\n",
              "  </thead>\n",
              "  <tbody>\n",
              "    <tr>\n",
              "      <th>0</th>\n",
              "      <td>AMD Athlon 1000</td>\n",
              "      <td>CPU</td>\n",
              "      <td>2000-06-05</td>\n",
              "      <td>180</td>\n",
              "      <td>54.0</td>\n",
              "      <td>120.0</td>\n",
              "      <td>37.0</td>\n",
              "      <td>1000.0</td>\n",
              "      <td>NaN</td>\n",
              "      <td>AMD</td>\n",
              "    </tr>\n",
              "    <tr>\n",
              "      <th>1</th>\n",
              "      <td>AMD Athlon 1000</td>\n",
              "      <td>CPU</td>\n",
              "      <td>2000-10-31</td>\n",
              "      <td>180</td>\n",
              "      <td>54.0</td>\n",
              "      <td>120.0</td>\n",
              "      <td>37.0</td>\n",
              "      <td>1000.0</td>\n",
              "      <td>NaN</td>\n",
              "      <td>AMD</td>\n",
              "    </tr>\n",
              "    <tr>\n",
              "      <th>2</th>\n",
              "      <td>AMD Athlon 1100</td>\n",
              "      <td>CPU</td>\n",
              "      <td>2000-08-14</td>\n",
              "      <td>180</td>\n",
              "      <td>60.0</td>\n",
              "      <td>120.0</td>\n",
              "      <td>37.0</td>\n",
              "      <td>1100.0</td>\n",
              "      <td>NaN</td>\n",
              "      <td>AMD</td>\n",
              "    </tr>\n",
              "    <tr>\n",
              "      <th>3</th>\n",
              "      <td>AMD Athlon 1133</td>\n",
              "      <td>CPU</td>\n",
              "      <td>2000-10-31</td>\n",
              "      <td>180</td>\n",
              "      <td>63.0</td>\n",
              "      <td>120.0</td>\n",
              "      <td>37.0</td>\n",
              "      <td>1133.0</td>\n",
              "      <td>NaN</td>\n",
              "      <td>AMD</td>\n",
              "    </tr>\n",
              "    <tr>\n",
              "      <th>4</th>\n",
              "      <td>AMD Athlon 1200</td>\n",
              "      <td>CPU</td>\n",
              "      <td>2000-10-31</td>\n",
              "      <td>180</td>\n",
              "      <td>66.0</td>\n",
              "      <td>120.0</td>\n",
              "      <td>37.0</td>\n",
              "      <td>1200.0</td>\n",
              "      <td>NaN</td>\n",
              "      <td>AMD</td>\n",
              "    </tr>\n",
              "  </tbody>\n",
              "</table>\n",
              "</div>\n",
              "    <div class=\"colab-df-buttons\">\n",
              "\n",
              "  <div class=\"colab-df-container\">\n",
              "    <button class=\"colab-df-convert\" onclick=\"convertToInteractive('df-131294eb-8a69-48f1-a41d-e0d852d34f54')\"\n",
              "            title=\"Convert this dataframe to an interactive table.\"\n",
              "            style=\"display:none;\">\n",
              "\n",
              "  <svg xmlns=\"http://www.w3.org/2000/svg\" height=\"24px\" viewBox=\"0 -960 960 960\">\n",
              "    <path d=\"M120-120v-720h720v720H120Zm60-500h600v-160H180v160Zm220 220h160v-160H400v160Zm0 220h160v-160H400v160ZM180-400h160v-160H180v160Zm440 0h160v-160H620v160ZM180-180h160v-160H180v160Zm440 0h160v-160H620v160Z\"/>\n",
              "  </svg>\n",
              "    </button>\n",
              "\n",
              "  <style>\n",
              "    .colab-df-container {\n",
              "      display:flex;\n",
              "      gap: 12px;\n",
              "    }\n",
              "\n",
              "    .colab-df-convert {\n",
              "      background-color: #E8F0FE;\n",
              "      border: none;\n",
              "      border-radius: 50%;\n",
              "      cursor: pointer;\n",
              "      display: none;\n",
              "      fill: #1967D2;\n",
              "      height: 32px;\n",
              "      padding: 0 0 0 0;\n",
              "      width: 32px;\n",
              "    }\n",
              "\n",
              "    .colab-df-convert:hover {\n",
              "      background-color: #E2EBFA;\n",
              "      box-shadow: 0px 1px 2px rgba(60, 64, 67, 0.3), 0px 1px 3px 1px rgba(60, 64, 67, 0.15);\n",
              "      fill: #174EA6;\n",
              "    }\n",
              "\n",
              "    .colab-df-buttons div {\n",
              "      margin-bottom: 4px;\n",
              "    }\n",
              "\n",
              "    [theme=dark] .colab-df-convert {\n",
              "      background-color: #3B4455;\n",
              "      fill: #D2E3FC;\n",
              "    }\n",
              "\n",
              "    [theme=dark] .colab-df-convert:hover {\n",
              "      background-color: #434B5C;\n",
              "      box-shadow: 0px 1px 3px 1px rgba(0, 0, 0, 0.15);\n",
              "      filter: drop-shadow(0px 1px 2px rgba(0, 0, 0, 0.3));\n",
              "      fill: #FFFFFF;\n",
              "    }\n",
              "  </style>\n",
              "\n",
              "    <script>\n",
              "      const buttonEl =\n",
              "        document.querySelector('#df-131294eb-8a69-48f1-a41d-e0d852d34f54 button.colab-df-convert');\n",
              "      buttonEl.style.display =\n",
              "        google.colab.kernel.accessAllowed ? 'block' : 'none';\n",
              "\n",
              "      async function convertToInteractive(key) {\n",
              "        const element = document.querySelector('#df-131294eb-8a69-48f1-a41d-e0d852d34f54');\n",
              "        const dataTable =\n",
              "          await google.colab.kernel.invokeFunction('convertToInteractive',\n",
              "                                                    [key], {});\n",
              "        if (!dataTable) return;\n",
              "\n",
              "        const docLinkHtml = 'Like what you see? Visit the ' +\n",
              "          '<a target=\"_blank\" href=https://colab.research.google.com/notebooks/data_table.ipynb>data table notebook</a>'\n",
              "          + ' to learn more about interactive tables.';\n",
              "        element.innerHTML = '';\n",
              "        dataTable['output_type'] = 'display_data';\n",
              "        await google.colab.output.renderOutput(dataTable, element);\n",
              "        const docLink = document.createElement('div');\n",
              "        docLink.innerHTML = docLinkHtml;\n",
              "        element.appendChild(docLink);\n",
              "      }\n",
              "    </script>\n",
              "  </div>\n",
              "\n",
              "\n",
              "<div id=\"df-94819fa3-eede-4265-87b1-2e2c45ae7e0a\">\n",
              "  <button class=\"colab-df-quickchart\" onclick=\"quickchart('df-94819fa3-eede-4265-87b1-2e2c45ae7e0a')\"\n",
              "            title=\"Suggest charts\"\n",
              "            style=\"display:none;\">\n",
              "\n",
              "<svg xmlns=\"http://www.w3.org/2000/svg\" height=\"24px\"viewBox=\"0 0 24 24\"\n",
              "     width=\"24px\">\n",
              "    <g>\n",
              "        <path d=\"M19 3H5c-1.1 0-2 .9-2 2v14c0 1.1.9 2 2 2h14c1.1 0 2-.9 2-2V5c0-1.1-.9-2-2-2zM9 17H7v-7h2v7zm4 0h-2V7h2v10zm4 0h-2v-4h2v4z\"/>\n",
              "    </g>\n",
              "</svg>\n",
              "  </button>\n",
              "\n",
              "<style>\n",
              "  .colab-df-quickchart {\n",
              "      --bg-color: #E8F0FE;\n",
              "      --fill-color: #1967D2;\n",
              "      --hover-bg-color: #E2EBFA;\n",
              "      --hover-fill-color: #174EA6;\n",
              "      --disabled-fill-color: #AAA;\n",
              "      --disabled-bg-color: #DDD;\n",
              "  }\n",
              "\n",
              "  [theme=dark] .colab-df-quickchart {\n",
              "      --bg-color: #3B4455;\n",
              "      --fill-color: #D2E3FC;\n",
              "      --hover-bg-color: #434B5C;\n",
              "      --hover-fill-color: #FFFFFF;\n",
              "      --disabled-bg-color: #3B4455;\n",
              "      --disabled-fill-color: #666;\n",
              "  }\n",
              "\n",
              "  .colab-df-quickchart {\n",
              "    background-color: var(--bg-color);\n",
              "    border: none;\n",
              "    border-radius: 50%;\n",
              "    cursor: pointer;\n",
              "    display: none;\n",
              "    fill: var(--fill-color);\n",
              "    height: 32px;\n",
              "    padding: 0;\n",
              "    width: 32px;\n",
              "  }\n",
              "\n",
              "  .colab-df-quickchart:hover {\n",
              "    background-color: var(--hover-bg-color);\n",
              "    box-shadow: 0 1px 2px rgba(60, 64, 67, 0.3), 0 1px 3px 1px rgba(60, 64, 67, 0.15);\n",
              "    fill: var(--button-hover-fill-color);\n",
              "  }\n",
              "\n",
              "  .colab-df-quickchart-complete:disabled,\n",
              "  .colab-df-quickchart-complete:disabled:hover {\n",
              "    background-color: var(--disabled-bg-color);\n",
              "    fill: var(--disabled-fill-color);\n",
              "    box-shadow: none;\n",
              "  }\n",
              "\n",
              "  .colab-df-spinner {\n",
              "    border: 2px solid var(--fill-color);\n",
              "    border-color: transparent;\n",
              "    border-bottom-color: var(--fill-color);\n",
              "    animation:\n",
              "      spin 1s steps(1) infinite;\n",
              "  }\n",
              "\n",
              "  @keyframes spin {\n",
              "    0% {\n",
              "      border-color: transparent;\n",
              "      border-bottom-color: var(--fill-color);\n",
              "      border-left-color: var(--fill-color);\n",
              "    }\n",
              "    20% {\n",
              "      border-color: transparent;\n",
              "      border-left-color: var(--fill-color);\n",
              "      border-top-color: var(--fill-color);\n",
              "    }\n",
              "    30% {\n",
              "      border-color: transparent;\n",
              "      border-left-color: var(--fill-color);\n",
              "      border-top-color: var(--fill-color);\n",
              "      border-right-color: var(--fill-color);\n",
              "    }\n",
              "    40% {\n",
              "      border-color: transparent;\n",
              "      border-right-color: var(--fill-color);\n",
              "      border-top-color: var(--fill-color);\n",
              "    }\n",
              "    60% {\n",
              "      border-color: transparent;\n",
              "      border-right-color: var(--fill-color);\n",
              "    }\n",
              "    80% {\n",
              "      border-color: transparent;\n",
              "      border-right-color: var(--fill-color);\n",
              "      border-bottom-color: var(--fill-color);\n",
              "    }\n",
              "    90% {\n",
              "      border-color: transparent;\n",
              "      border-bottom-color: var(--fill-color);\n",
              "    }\n",
              "  }\n",
              "</style>\n",
              "\n",
              "  <script>\n",
              "    async function quickchart(key) {\n",
              "      const quickchartButtonEl =\n",
              "        document.querySelector('#' + key + ' button');\n",
              "      quickchartButtonEl.disabled = true;  // To prevent multiple clicks.\n",
              "      quickchartButtonEl.classList.add('colab-df-spinner');\n",
              "      try {\n",
              "        const charts = await google.colab.kernel.invokeFunction(\n",
              "            'suggestCharts', [key], {});\n",
              "      } catch (error) {\n",
              "        console.error('Error during call to suggestCharts:', error);\n",
              "      }\n",
              "      quickchartButtonEl.classList.remove('colab-df-spinner');\n",
              "      quickchartButtonEl.classList.add('colab-df-quickchart-complete');\n",
              "    }\n",
              "    (() => {\n",
              "      let quickchartButtonEl =\n",
              "        document.querySelector('#df-94819fa3-eede-4265-87b1-2e2c45ae7e0a button');\n",
              "      quickchartButtonEl.style.display =\n",
              "        google.colab.kernel.accessAllowed ? 'block' : 'none';\n",
              "    })();\n",
              "  </script>\n",
              "</div>\n",
              "\n",
              "    </div>\n",
              "  </div>\n"
            ],
            "application/vnd.google.colaboratory.intrinsic+json": {
              "type": "dataframe",
              "variable_name": "df",
              "summary": "{\n  \"name\": \"df\",\n  \"rows\": 4945,\n  \"fields\": [\n    {\n      \"column\": \"Product\",\n      \"properties\": {\n        \"dtype\": \"string\",\n        \"num_unique_values\": 4567,\n        \"samples\": [\n          \"Intel Xeon E5-2658 v3\",\n          \"Intel Core 2 Duo E4400\",\n          \"AMD FirePro W7170M\"\n        ],\n        \"semantic_type\": \"\",\n        \"description\": \"\"\n      }\n    },\n    {\n      \"column\": \"Type\",\n      \"properties\": {\n        \"dtype\": \"category\",\n        \"num_unique_values\": 2,\n        \"samples\": [\n          \"GPU\",\n          \"CPU\"\n        ],\n        \"semantic_type\": \"\",\n        \"description\": \"\"\n      }\n    },\n    {\n      \"column\": \"Release Date\",\n      \"properties\": {\n        \"dtype\": \"date\",\n        \"min\": \"1999-03-15 00:00:00\",\n        \"max\": \"2024-01-08 00:00:00\",\n        \"num_unique_values\": 1280,\n        \"samples\": [\n          \"2022-01-04 00:00:00\",\n          \"2007-10-29 00:00:00\"\n        ],\n        \"semantic_type\": \"\",\n        \"description\": \"\"\n      }\n    },\n    {\n      \"column\": \"Process Size (nm)\",\n      \"properties\": {\n        \"dtype\": \"number\",\n        \"std\": 48,\n        \"min\": 0,\n        \"max\": 250,\n        \"num_unique_values\": 25,\n        \"samples\": [\n          28,\n          4\n        ],\n        \"semantic_type\": \"\",\n        \"description\": \"\"\n      }\n    },\n    {\n      \"column\": \"TDP (W)\",\n      \"properties\": {\n        \"dtype\": \"number\",\n        \"std\": 97.46917510297753,\n        \"min\": 1.0,\n        \"max\": 2400.0,\n        \"num_unique_values\": 210,\n        \"samples\": [\n          110.0,\n          133.0\n        ],\n        \"semantic_type\": \"\",\n        \"description\": \"\"\n      }\n    },\n    {\n      \"column\": \"Die Size (mm^2)\",\n      \"properties\": {\n        \"dtype\": \"number\",\n        \"std\": 151.4253127491244,\n        \"min\": 6.0,\n        \"max\": 1280.0,\n        \"num_unique_values\": 223,\n        \"samples\": [\n          115.0,\n          124.0\n        ],\n        \"semantic_type\": \"\",\n        \"description\": \"\"\n      }\n    },\n    {\n      \"column\": \"Transistors (million)\",\n      \"properties\": {\n        \"dtype\": \"number\",\n        \"std\": 12005.156903196637,\n        \"min\": 8.0,\n        \"max\": 153000.0,\n        \"num_unique_values\": 247,\n        \"samples\": [\n          176.0,\n          105.0\n        ],\n        \"semantic_type\": \"\",\n        \"description\": \"\"\n      }\n    },\n    {\n      \"column\": \"Freq (GHz)\",\n      \"properties\": {\n        \"dtype\": \"number\",\n        \"std\": 1084.6414522624134,\n        \"min\": 100.0,\n        \"max\": 4700.0,\n        \"num_unique_values\": 540,\n        \"samples\": [\n          606.0,\n          2166.0\n        ],\n        \"semantic_type\": \"\",\n        \"description\": \"\"\n      }\n    },\n    {\n      \"column\": \"Foundry\",\n      \"properties\": {\n        \"dtype\": \"category\",\n        \"num_unique_values\": 10,\n        \"samples\": [\n          \"Samsung\",\n          \"TSMC\"\n        ],\n        \"semantic_type\": \"\",\n        \"description\": \"\"\n      }\n    },\n    {\n      \"column\": \"Vendor\",\n      \"properties\": {\n        \"dtype\": \"category\",\n        \"num_unique_values\": 9,\n        \"samples\": [\n          \"Sony\",\n          \"Intel\"\n        ],\n        \"semantic_type\": \"\",\n        \"description\": \"\"\n      }\n    }\n  ]\n}"
            }
          },
          "metadata": {},
          "execution_count": 24
        }
      ]
    },
    {
      "cell_type": "code",
      "source": [],
      "metadata": {
        "id": "xTjTqv8nMtAj"
      },
      "execution_count": null,
      "outputs": []
    }
  ]
}